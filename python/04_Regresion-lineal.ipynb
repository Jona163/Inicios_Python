{
 "cells": [
  {
   "cell_type": "markdown",
   "id": "d053fb7a",
   "metadata": {},
   "source": [
    "# Regresion lineal: Costo de un incidente seguridad\n",
    "\n",
    "#### En este ejercicio se explican los fundamentos basicos de la regresion lineal aplicada a un caso de uso sencillo relacionado con la ciberseguridad."
   ]
  },
  {
   "cell_type": "markdown",
   "id": "264356f5",
   "metadata": {},
   "source": [
    "## Enunciado del ejercicio"
   ]
  },
  {
   "cell_type": "markdown",
   "id": "f1ee0344",
   "metadata": {},
   "source": [
    "#### Consiste en predecir el costo de un incidente de seguridad en base al numero de equipos que se han visto afectados, en conjunto de datos es generado de manera aleatoria."
   ]
  },
  {
   "cell_type": "markdown",
   "id": "c5151574",
   "metadata": {},
   "source": [
    "### 1-Generar el DataSet.\n"
   ]
  },
  {
   "cell_type": "code",
   "execution_count": 1,
   "id": "45f0c540",
   "metadata": {},
   "outputs": [],
   "source": [
    "import numpy as np\n",
    "\n",
    "x = 2 * np.random.rand(100,1)\n",
    "y = 4 + 3 * x * np.random.randn(100,1)\n",
    "print(\"La longitud del conjunto de datos es:\", len(x))"
   ]
  },
  {
   "cell_type": "markdown",
   "id": "06b088bb",
   "metadata": {},
   "source": [
    "## 2- Visualizacion el DataSet."
   ]
  },
  {
   "cell_type": "code",
   "execution_count": 2,
   "id": "bfaa7cd0",
   "metadata": {},
   "outputs": [],
   "source": [
    "import matplotlib.pyplot as plt\n",
    "%matplotlib inline"
   ]
  },
  {
   "cell_type": "code",
   "execution_count": 3,
   "id": "8423c220",
   "metadata": {},
   "outputs": [],
   "source": [
    "plt.plot(x,y,'b.')\n",
    "plt.show()"
   ]
  },
  {
   "cell_type": "code",
   "execution_count": 4,
   "id": "ec36c90a",
   "metadata": {},
   "outputs": [],
   "source": [
    "plt.plot(x,y,'b.')\n",
    "plt.xlabel(\"Equipos afectados (u/10000)\")\n",
    "plt.ylabel(\"Costo del incidente (u/10,000)\")\n",
    "plt.show()"
   ]
  },
  {
   "cell_type": "markdown",
   "id": "678eba06",
   "metadata": {},
   "source": [
    "## Modificacion del dataSet."
   ]
  },
  {
   "cell_type": "code",
   "execution_count": 5,
   "id": "48f51881",
   "metadata": {},
   "outputs": [],
   "source": [
    "import pandas as pd"
   ]
  },
  {
   "cell_type": "code",
   "execution_count": 6,
   "id": "81eddaff",
   "metadata": {},
   "outputs": [],
   "source": [
    "data = {'No Equipos Afectados': x.flatten(),\"Costo\": y.flatten()}\n",
    "df = pd.DataFrame(data)\n",
    "df.head(10)"
   ]
  },
  {
   "cell_type": "code",
   "execution_count": 7,
   "id": "cfac5863",
   "metadata": {},
   "outputs": [],
   "source": [
    "# escalado del numero de equipos afectado\n",
    "df['No Equipos Afectados']=df['No Equipos Afectados'] *1000\n",
    "df['No Equipos Afectados']=df['No Equipos Afectados'].astype('int')\n",
    "# escalando el costo\n",
    "df['Costo']=df['Costo'] * 10000\n",
    "df['Costo']=df['Costo'].astype('int')\n",
    "df.head(10)"
   ]
  },
  {
   "cell_type": "code",
   "execution_count": 8,
   "id": "3d222886",
   "metadata": {},
   "outputs": [],
   "source": [
    "#Representacion del dataFrame \n",
    "plt.plot(df['No Equipos Afectados'],df['Costo'], 'b.')\n",
    "plt.xlabel(\"Equipos afectados (u/1,000)\")\n",
    "plt.ylabel(\"Costo del incidente (u/10,000)\")\n",
    "plt.show()"
   ]
  },
  {
   "cell_type": "markdown",
   "id": "d65cbe17",
   "metadata": {},
   "source": [
    "### 4.-Construccion del modulo."
   ]
  },
  {
   "cell_type": "code",
   "execution_count": 9,
   "id": "eb32b44f",
   "metadata": {},
   "outputs": [],
   "source": [
    "from sklearn.linear_model import LinearRegression"
   ]
  },
  {
   "cell_type": "code",
   "execution_count": 10,
   "id": "e6f62a27",
   "metadata": {},
   "outputs": [],
   "source": [
    "# Construccion del  modelo y ajuste de la funcion de hipotesis\n",
    "lin_reg = LinearRegression()\n",
    "lin_reg.fit(df['No Equipos Afectados'].values.reshape(-1,1),df['Costo'].values)"
   ]
  },
  {
   "cell_type": "code",
   "execution_count": 11,
   "id": "3d23f8ba",
   "metadata": {},
   "outputs": [],
   "source": [
    "#Parametro teta 0\n",
    "lin_reg.intercept_"
   ]
  },
  {
   "cell_type": "code",
   "execution_count": 12,
   "id": "699d71b0",
   "metadata": {},
   "outputs": [],
   "source": [
    "#Parametro teta 1\n",
    "lin_reg.coef_"
   ]
  },
  {
   "cell_type": "code",
   "execution_count": 13,
   "id": "5512682f",
   "metadata": {},
   "outputs": [],
   "source": [
    "# Prediccion para el valor minimo y maximo del conjunto de datos de un df\n",
    "x_min_max = np.array([[df['No Equipos Afectados'].min()], [df['No Equipos Afectados'].max()]])\n",
    "y_train_pred = lin_reg.predict(x_min_max)"
   ]
  },
  {
   "cell_type": "code",
   "execution_count": 14,
   "id": "fbb4cf1d",
   "metadata": {},
   "outputs": [],
   "source": [
    "# Representacion grafica de la funcion de hipotesis generada\n",
    "plt.plot(x_min_max, y_train_pred, \"g-\")\n",
    "plt.plot(df['No Equipos Afectados'], df['Costo'], 'b.')\n",
    "plt.xlabel(\"Equipos Afectados\")\n",
    "plt.ylabel(\"Costo del Incidente\")\n",
    "plt.show()"
   ]
  },
  {
   "cell_type": "markdown",
   "id": "b3828e65",
   "metadata": {},
   "source": [
    "## 5.-Prediccion de nuevos ejemplos"
   ]
  },
  {
   "cell_type": "code",
   "execution_count": 15,
   "id": "197d54d4",
   "metadata": {},
   "outputs": [],
   "source": [
    "x_new=np.array([[1670]]) #numero de equipos afectados \n",
    "\n",
    "#Prediccion del costo de que tendria el incidente\n",
    "Costo= lin_reg.predict(x_new)\n",
    "print(\"El costo del incidente seria: $ \", int(Costo[0]))\n"
   ]
  },
  {
   "cell_type": "code",
   "execution_count": 16,
   "id": "250a3901",
   "metadata": {},
   "outputs": [],
   "source": [
    "plt.plot(df[\"No equipos afectados\"],df['Costo'], 'b.')\n",
    "plt.plot(x_min_max, y_train_pred, 'g-')\n",
    "plt.plot(x_new_Costo,\"rx\")\n",
    "plt.xlabel(\"Equipos Afectados\")\n",
    "plt.ylabel(\"Costo del Incidente\")\n",
    "plt.show()"
   ]
  },
  {
   "cell_type": "code",
   "execution_count": null,
   "id": "d79e3106",
   "metadata": {},
   "outputs": [],
   "source": []
  }
 ],
 "metadata": {
  "kernelspec": {
   "display_name": "Python 3 (ipykernel)",
   "language": "python",
   "name": "python3"
  },
  "language_info": {
   "codemirror_mode": {
    "name": "ipython",
    "version": 3
   },
   "file_extension": ".py",
   "mimetype": "text/x-python",
   "name": "python",
   "nbconvert_exporter": "python",
   "pygments_lexer": "ipython3",
   "version": "3.9.16"
  }
 },
 "nbformat": 4,
 "nbformat_minor": 5
}
