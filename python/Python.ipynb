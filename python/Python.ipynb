{
 "cells": [
  {
   "cell_type": "markdown",
   "id": "ac7ff240",
   "metadata": {},
   "source": [
    "# Acceder a los elementos del Array."
   ]
  },
  {
   "cell_type": "markdown",
   "id": "4df777b2",
   "metadata": {},
   "source": [
    "### Array dimensional "
   ]
  },
  {
   "cell_type": "code",
   "execution_count": null,
   "id": "7607afa6",
   "metadata": {},
   "outputs": [],
   "source": [
    "## Crear un array unidimensional\n",
    "import numpy\n",
    "array_uni = np.array([1,3,5,7,9])\n",
    "print(\"Saper: \", array_uni.shape)\n",
    "print(\"array_uni: \", array_unit)"
   ]
  },
  {
   "cell_type": "code",
   "execution_count": null,
   "id": "3939fc14",
   "metadata": {},
   "outputs": [],
   "source": [
    "#Acceder al 5 elemento del Array \n",
    "array_uni[4]\n"
   ]
  },
  {
   "cell_type": "code",
   "execution_count": null,
   "id": "101f2d00",
   "metadata": {},
   "outputs": [],
   "source": [
    "# Acceder al tercer elementon del array\n",
    "arrays([2:4])"
   ]
  },
  {
   "cell_type": "code",
   "execution_count": null,
   "id": "d517003b",
   "metadata": {},
   "outputs": [],
   "source": [
    "#Acceder a los elementos del array 0,3 y 5\n",
    "array_uni([0::2])"
   ]
  },
  {
   "cell_type": "markdown",
   "id": "6add2439",
   "metadata": {},
   "source": [
    "## Array multidimensional\n"
   ]
  },
  {
   "cell_type": "code",
   "execution_count": null,
   "id": "3553936d",
   "metadata": {},
   "outputs": [],
   "source": [
    "# Crear un Array Multidimensional\n",
    "import numpy\n",
    "array_multi = np.array([1,2,3,4],[5,6,7,8])\n",
    "print (\"Shape: \", array_multi.shape)\n",
    "print (\"Array_multi: \", array_multi)"
   ]
  },
  {
   "cell_type": "code",
   "execution_count": null,
   "id": "460cb407",
   "metadata": {},
   "outputs": [],
   "source": [
    "# Acceder al cuarto elemento del Array_multi\n",
    "array_multi[0, 3]\n"
   ]
  },
  {
   "cell_type": "code",
   "execution_count": null,
   "id": "340bb190",
   "metadata": {},
   "outputs": [],
   "source": [
    "# Acceder a la segunda fila del Array\n",
    "array_multi[1, :]"
   ]
  },
  {
   "cell_type": "code",
   "execution_count": null,
   "id": "de510499",
   "metadata": {},
   "outputs": [],
   "source": [
    "# Acceder al tercer elemento de las 2 dimensiones\n",
    "array_milti[0:2,2]"
   ]
  },
  {
   "cell_type": "markdown",
   "id": "ee81a493",
   "metadata": {},
   "source": [
    "# Modificacion del Array "
   ]
  },
  {
   "cell_type": "code",
   "execution_count": null,
   "id": "ba40f556",
   "metadata": {},
   "outputs": [],
   "source": [
    "# Crear un array unidimensional e iniciarlo  con el rango de elementos del 0 al 27\n",
    "array1 = np.arange(28)\n",
    "print (\"Shape: \", array1.shape)\n",
    "print (\"Array1: \", array1)"
   ]
  },
  {
   "cell_type": "code",
   "execution_count": null,
   "id": "9622df21",
   "metadata": {},
   "outputs": [],
   "source": [
    "# Cambiar las dimensiones del Array y sus longitudes.\n",
    "array1.shape = (7,4)\n",
    "print (\"Shape: \", array1.shape)\n",
    "print (\"Array1: \", array1)"
   ]
  },
  {
   "cell_type": "code",
   "execution_count": null,
   "id": "49e832b3",
   "metadata": {},
   "outputs": [],
   "source": [
    "# pi= el ejemplo anterior devuelve un array que apunta alos mismos datos.\n",
    "# importancia:Las modificaciones en un array , modifican el otro array\n",
    "array2 = array1.reshape(4,7)\n",
    "print (\"Shape: \", array2.shape)\n",
    "print (\"Array2: \", array2)"
   ]
  },
  {
   "cell_type": "code",
   "execution_count": null,
   "id": "6329be01",
   "metadata": {},
   "outputs": [],
   "source": [
    "# MOdificar el nuevo arreglo \n",
    "array2[0,3]=20\n",
    "array2(\"Array 2: \\n\", array2)"
   ]
  },
  {
   "cell_type": "code",
   "execution_count": null,
   "id": "2d98a79c",
   "metadata": {},
   "outputs": [],
   "source": [
    "print(\"Array1: \\n\", array1)"
   ]
  },
  {
   "cell_type": "code",
   "execution_count": null,
   "id": "15117d2e",
   "metadata": {},
   "outputs": [],
   "source": [
    "# REgresar el array a su estado original \n",
    "# NOtra: El numero array apunta a los mismo datos.\n",
    "print(\"Array1:\\n\", array1.ravel())"
   ]
  },
  {
   "cell_type": "markdown",
   "id": "f2f6e987",
   "metadata": {},
   "source": [
    "## Operaciones arirmeticas con Arrays"
   ]
  },
  {
   "cell_type": "code",
   "execution_count": null,
   "id": "7fd2e823",
   "metadata": {},
   "outputs": [],
   "source": [
    "#Crear un array unidimensional\n",
    "array1 = np.arange (1,18,2)\n",
    "array2 = np.arange(5)\n",
    "print(\"Array 1:\", array1)\n",
    "print(\"Array 2:\", array2)\n"
   ]
  },
  {
   "cell_type": "code",
   "execution_count": null,
   "id": "433968cc",
   "metadata": {},
   "outputs": [],
   "source": [
    "#suma\n",
    "print(array1 + array2)"
   ]
  },
  {
   "cell_type": "code",
   "execution_count": null,
   "id": "34e8cdf6",
   "metadata": {},
   "outputs": [],
   "source": [
    "#Resta\n",
    "print(array1 - array2)\n"
   ]
  },
  {
   "cell_type": "code",
   "execution_count": null,
   "id": "97eb0bf9",
   "metadata": {},
   "outputs": [],
   "source": [
    "#Multiplicacion \n",
    "#nota: NO es una multiplicacion de matrices de matrices\n",
    "print(array1 * array2)"
   ]
  },
  {
   "cell_type": "markdown",
   "id": "55d559e8",
   "metadata": {},
   "source": [
    "## Broadcasting "
   ]
  },
  {
   "cell_type": "code",
   "execution_count": 3,
   "id": "1597d9eb",
   "metadata": {},
   "outputs": [],
   "source": [
    "# si se aplican operaciones aritmeticas sobre array que\n",
    "#no tienen la misma forma (shape), NUmpy aplican ugna propiedad\n",
    "#que se les conoce como Broadcastin"
   ]
  },
  {
   "cell_type": "code",
   "execution_count": 10,
   "id": "ac43b96e",
   "metadata": {},
   "outputs": [
    {
     "name": "stdout",
     "output_type": "stream",
     "text": [
      "Shape Array 1: (5,)\n",
      "Array 1: [0 1 2 3 4]\n",
      "\n",
      "Shape Array 2: (1,)\n",
      "Array 2: [3]\n"
     ]
    }
   ],
   "source": [
    "#Crear dos array UniDImensionales\n",
    "import numpy as np\n",
    "array1 = np.arange(5)\n",
    "array2 = np.a([3])\n",
    "print (\"Shape Array 1:\", array1.shape)\n",
    "print (\"Array 1:\", array1)\n",
    "print()\n",
    "print (\"Shape Array 2:\", array2.shape)\n",
    "print (\"Array 2:\", array2)"
   ]
  },
  {
   "cell_type": "code",
   "execution_count": 11,
   "id": "6c73314d",
   "metadata": {},
   "outputs": [
    {
     "data": {
      "text/plain": [
       "array([3, 4, 5, 6, 7])"
      ]
     },
     "execution_count": 11,
     "metadata": {},
     "output_type": "execute_result"
    }
   ],
   "source": [
    "#Suma de ambos arrays\n",
    "array1 + array2"
   ]
  },
  {
   "cell_type": "code",
   "execution_count": null,
   "id": "8efedc06",
   "metadata": {},
   "outputs": [],
   "source": []
  },
  {
   "cell_type": "code",
   "execution_count": 13,
   "id": "e15056b8",
   "metadata": {},
   "outputs": [
    {
     "name": "stdout",
     "output_type": "stream",
     "text": [
      "Shape Array 1: (2, 3)\n",
      "Array 1: [[0 1 2]\n",
      " [3 4 5]]\n",
      "\n",
      "Shape Array 2: (3,)\n",
      "Array 2: [ 6 10 14]\n"
     ]
    }
   ],
   "source": [
    "#Crear dos arreglos MultiDimensional y UniDImensinal\n",
    "array1=np.arange(6)\n",
    "array1.shape=(2, 3)\n",
    "array2=np.arange(6,18,4)\n",
    "print (\"Shape Array 1:\", array1.shape)\n",
    "print (\"Array 1:\", array1)\n",
    "print()\n",
    "print (\"Shape Array 2:\", array2.shape)\n",
    "print (\"Array 2:\", array2)"
   ]
  },
  {
   "cell_type": "code",
   "execution_count": 14,
   "id": "197c96ca",
   "metadata": {},
   "outputs": [
    {
     "data": {
      "text/plain": [
       "array([[ 6, 11, 16],\n",
       "       [ 9, 14, 19]])"
      ]
     },
     "execution_count": 14,
     "metadata": {},
     "output_type": "execute_result"
    }
   ],
   "source": [
    "#SUma\n",
    "array1 + array2"
   ]
  },
  {
   "cell_type": "markdown",
   "id": "c5e2aaae",
   "metadata": {},
   "source": [
    "## Funciones estadisticas sobre Arrays ."
   ]
  },
  {
   "cell_type": "code",
   "execution_count": 17,
   "id": "6ae0126e",
   "metadata": {},
   "outputs": [
    {
     "name": "stdout",
     "output_type": "stream",
     "text": [
      "Array 1: [ 2  4  6  8 10 12 14 16]\n"
     ]
    }
   ],
   "source": [
    "# Creacion de un Array unidimensional \n",
    "array1 = np.arange(2,18,2)\n",
    "print(\"Array 1:\", array1)"
   ]
  },
  {
   "cell_type": "code",
   "execution_count": 18,
   "id": "3cced73a",
   "metadata": {},
   "outputs": [
    {
     "data": {
      "text/plain": [
       "9.0"
      ]
     },
     "execution_count": 18,
     "metadata": {},
     "output_type": "execute_result"
    }
   ],
   "source": [
    "#media\n",
    "array1.mean()"
   ]
  },
  {
   "cell_type": "code",
   "execution_count": 19,
   "id": "e97e454d",
   "metadata": {},
   "outputs": [
    {
     "data": {
      "text/plain": [
       "72"
      ]
     },
     "execution_count": 19,
     "metadata": {},
     "output_type": "execute_result"
    }
   ],
   "source": [
    "#Suma de los elementos del array.\n",
    "array1.sum()"
   ]
  },
  {
   "cell_type": "markdown",
   "id": "b841defb",
   "metadata": {},
   "source": [
    "## Funciones universales eficientes proporcionadas por Numpy:**Ufunc.\n",
    "\n"
   ]
  },
  {
   "cell_type": "code",
   "execution_count": 20,
   "id": "3830425c",
   "metadata": {},
   "outputs": [
    {
     "data": {
      "text/plain": [
       "array([  4,  16,  36,  64, 100, 144, 196, 256])"
      ]
     },
     "execution_count": 20,
     "metadata": {},
     "output_type": "execute_result"
    }
   ],
   "source": [
    "# Cuadrado de los elementos del array\n",
    "np.square(array1)"
   ]
  },
  {
   "cell_type": "code",
   "execution_count": 21,
   "id": "6a181231",
   "metadata": {},
   "outputs": [
    {
     "data": {
      "text/plain": [
       "array([1.41421356, 2.        , 2.44948974, 2.82842712, 3.16227766,\n",
       "       3.46410162, 3.74165739, 4.        ])"
      ]
     },
     "execution_count": 21,
     "metadata": {},
     "output_type": "execute_result"
    }
   ],
   "source": [
    "#Raiz cuadrada de los elementos del array\n",
    "np.sqrt(array1)"
   ]
  },
  {
   "cell_type": "code",
   "execution_count": 22,
   "id": "0c542597",
   "metadata": {},
   "outputs": [
    {
     "data": {
      "text/plain": [
       "array([7.38905610e+00, 5.45981500e+01, 4.03428793e+02, 2.98095799e+03,\n",
       "       2.20264658e+04, 1.62754791e+05, 1.20260428e+06, 8.88611052e+06])"
      ]
     },
     "execution_count": 22,
     "metadata": {},
     "output_type": "execute_result"
    }
   ],
   "source": [
    "#Exponencial de los elementos del array\n",
    "np.exp(array1)"
   ]
  },
  {
   "cell_type": "code",
   "execution_count": 23,
   "id": "7fafae2c",
   "metadata": {},
   "outputs": [
    {
     "data": {
      "text/plain": [
       "array([0.69314718, 1.38629436, 1.79175947, 2.07944154, 2.30258509,\n",
       "       2.48490665, 2.63905733, 2.77258872])"
      ]
     },
     "execution_count": 23,
     "metadata": {},
     "output_type": "execute_result"
    }
   ],
   "source": [
    "#logaritmo natural de los elementos del array\n",
    "np.log(array1)"
   ]
  },
  {
   "cell_type": "code",
   "execution_count": null,
   "id": "c26632ee",
   "metadata": {},
   "outputs": [],
   "source": []
  }
 ],
 "metadata": {
  "kernelspec": {
   "display_name": "Python 3 (ipykernel)",
   "language": "python",
   "name": "python3"
  },
  "language_info": {
   "codemirror_mode": {
    "name": "ipython",
    "version": 3
   },
   "file_extension": ".py",
   "mimetype": "text/x-python",
   "name": "python",
   "nbconvert_exporter": "python",
   "pygments_lexer": "ipython3",
   "version": "3.9.16"
  }
 },
 "nbformat": 4,
 "nbformat_minor": 5
}
